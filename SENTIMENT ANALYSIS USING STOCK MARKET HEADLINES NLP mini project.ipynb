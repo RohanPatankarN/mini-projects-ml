{
 "cells": [
  {
   "cell_type": "markdown",
   "id": "82bafedc",
   "metadata": {},
   "source": [
    "# SENTIMENT ANALYSIS USING STOCK MARKET HEADLINES NLP"
   ]
  },
  {
   "cell_type": "code",
   "execution_count": 19,
   "id": "48d6f04e",
   "metadata": {},
   "outputs": [],
   "source": [
    "import pandas as pd\n",
    "import nltk"
   ]
  },
  {
   "cell_type": "code",
   "execution_count": 20,
   "id": "98553595",
   "metadata": {},
   "outputs": [],
   "source": [
    "data=pd.read_csv(\"stock_sentiment.csv\")"
   ]
  },
  {
   "cell_type": "code",
   "execution_count": 21,
   "id": "3035f1a5",
   "metadata": {},
   "outputs": [
    {
     "data": {
      "text/html": [
       "<div>\n",
       "<style scoped>\n",
       "    .dataframe tbody tr th:only-of-type {\n",
       "        vertical-align: middle;\n",
       "    }\n",
       "\n",
       "    .dataframe tbody tr th {\n",
       "        vertical-align: top;\n",
       "    }\n",
       "\n",
       "    .dataframe thead th {\n",
       "        text-align: right;\n",
       "    }\n",
       "</style>\n",
       "<table border=\"1\" class=\"dataframe\">\n",
       "  <thead>\n",
       "    <tr style=\"text-align: right;\">\n",
       "      <th></th>\n",
       "      <th>Date</th>\n",
       "      <th>Label</th>\n",
       "      <th>Top1</th>\n",
       "      <th>Top2</th>\n",
       "      <th>Top3</th>\n",
       "      <th>Top4</th>\n",
       "      <th>Top5</th>\n",
       "      <th>Top6</th>\n",
       "      <th>Top7</th>\n",
       "      <th>Top8</th>\n",
       "      <th>...</th>\n",
       "      <th>Top16</th>\n",
       "      <th>Top17</th>\n",
       "      <th>Top18</th>\n",
       "      <th>Top19</th>\n",
       "      <th>Top20</th>\n",
       "      <th>Top21</th>\n",
       "      <th>Top22</th>\n",
       "      <th>Top23</th>\n",
       "      <th>Top24</th>\n",
       "      <th>Top25</th>\n",
       "    </tr>\n",
       "  </thead>\n",
       "  <tbody>\n",
       "    <tr>\n",
       "      <th>0</th>\n",
       "      <td>2008-08-08</td>\n",
       "      <td>0</td>\n",
       "      <td>b\"Georgia 'downs two Russian warplanes' as cou...</td>\n",
       "      <td>b'BREAKING: Musharraf to be impeached.'</td>\n",
       "      <td>b'Russia Today: Columns of troops roll into So...</td>\n",
       "      <td>b'Russian tanks are moving towards the capital...</td>\n",
       "      <td>b\"Afghan children raped with 'impunity,' U.N. ...</td>\n",
       "      <td>b'150 Russian tanks have entered South Ossetia...</td>\n",
       "      <td>b\"Breaking: Georgia invades South Ossetia, Rus...</td>\n",
       "      <td>b\"The 'enemy combatent' trials are nothing but...</td>\n",
       "      <td>...</td>\n",
       "      <td>b'Georgia Invades South Ossetia - if Russia ge...</td>\n",
       "      <td>b'Al-Qaeda Faces Islamist Backlash'</td>\n",
       "      <td>b'Condoleezza Rice: \"The US would not act to p...</td>\n",
       "      <td>b'This is a busy day:  The European Union has ...</td>\n",
       "      <td>b\"Georgia will withdraw 1,000 soldiers from Ir...</td>\n",
       "      <td>b'Why the Pentagon Thinks Attacking Iran is a ...</td>\n",
       "      <td>b'Caucasus in crisis: Georgia invades South Os...</td>\n",
       "      <td>b'Indian shoe manufactory  - And again in a se...</td>\n",
       "      <td>b'Visitors Suffering from Mental Illnesses Ban...</td>\n",
       "      <td>b\"No Help for Mexico's Kidnapping Surge\"</td>\n",
       "    </tr>\n",
       "    <tr>\n",
       "      <th>1</th>\n",
       "      <td>2008-08-11</td>\n",
       "      <td>1</td>\n",
       "      <td>b'Why wont America and Nato help us? If they w...</td>\n",
       "      <td>b'Bush puts foot down on Georgian conflict'</td>\n",
       "      <td>b\"Jewish Georgian minister: Thanks to Israeli ...</td>\n",
       "      <td>b'Georgian army flees in disarray as Russians ...</td>\n",
       "      <td>b\"Olympic opening ceremony fireworks 'faked'\"</td>\n",
       "      <td>b'What were the Mossad with fraudulent New Zea...</td>\n",
       "      <td>b'Russia angered by Israeli military sale to G...</td>\n",
       "      <td>b'An American citizen living in S.Ossetia blam...</td>\n",
       "      <td>...</td>\n",
       "      <td>b'Israel and the US behind the Georgian aggres...</td>\n",
       "      <td>b'\"Do not believe TV, neither Russian nor Geor...</td>\n",
       "      <td>b'Riots are still going on in Montreal (Canada...</td>\n",
       "      <td>b'China to overtake US as largest manufacturer'</td>\n",
       "      <td>b'War in South Ossetia [PICS]'</td>\n",
       "      <td>b'Israeli Physicians Group Condemns State Tort...</td>\n",
       "      <td>b' Russia has just beaten the United States ov...</td>\n",
       "      <td>b'Perhaps *the* question about the Georgia - R...</td>\n",
       "      <td>b'Russia is so much better at war'</td>\n",
       "      <td>b\"So this is what it's come to: trading sex fo...</td>\n",
       "    </tr>\n",
       "  </tbody>\n",
       "</table>\n",
       "<p>2 rows × 27 columns</p>\n",
       "</div>"
      ],
      "text/plain": [
       "         Date  Label                                               Top1  \\\n",
       "0  2008-08-08      0  b\"Georgia 'downs two Russian warplanes' as cou...   \n",
       "1  2008-08-11      1  b'Why wont America and Nato help us? If they w...   \n",
       "\n",
       "                                          Top2  \\\n",
       "0      b'BREAKING: Musharraf to be impeached.'   \n",
       "1  b'Bush puts foot down on Georgian conflict'   \n",
       "\n",
       "                                                Top3  \\\n",
       "0  b'Russia Today: Columns of troops roll into So...   \n",
       "1  b\"Jewish Georgian minister: Thanks to Israeli ...   \n",
       "\n",
       "                                                Top4  \\\n",
       "0  b'Russian tanks are moving towards the capital...   \n",
       "1  b'Georgian army flees in disarray as Russians ...   \n",
       "\n",
       "                                                Top5  \\\n",
       "0  b\"Afghan children raped with 'impunity,' U.N. ...   \n",
       "1      b\"Olympic opening ceremony fireworks 'faked'\"   \n",
       "\n",
       "                                                Top6  \\\n",
       "0  b'150 Russian tanks have entered South Ossetia...   \n",
       "1  b'What were the Mossad with fraudulent New Zea...   \n",
       "\n",
       "                                                Top7  \\\n",
       "0  b\"Breaking: Georgia invades South Ossetia, Rus...   \n",
       "1  b'Russia angered by Israeli military sale to G...   \n",
       "\n",
       "                                                Top8  ...  \\\n",
       "0  b\"The 'enemy combatent' trials are nothing but...  ...   \n",
       "1  b'An American citizen living in S.Ossetia blam...  ...   \n",
       "\n",
       "                                               Top16  \\\n",
       "0  b'Georgia Invades South Ossetia - if Russia ge...   \n",
       "1  b'Israel and the US behind the Georgian aggres...   \n",
       "\n",
       "                                               Top17  \\\n",
       "0                b'Al-Qaeda Faces Islamist Backlash'   \n",
       "1  b'\"Do not believe TV, neither Russian nor Geor...   \n",
       "\n",
       "                                               Top18  \\\n",
       "0  b'Condoleezza Rice: \"The US would not act to p...   \n",
       "1  b'Riots are still going on in Montreal (Canada...   \n",
       "\n",
       "                                               Top19  \\\n",
       "0  b'This is a busy day:  The European Union has ...   \n",
       "1    b'China to overtake US as largest manufacturer'   \n",
       "\n",
       "                                               Top20  \\\n",
       "0  b\"Georgia will withdraw 1,000 soldiers from Ir...   \n",
       "1                     b'War in South Ossetia [PICS]'   \n",
       "\n",
       "                                               Top21  \\\n",
       "0  b'Why the Pentagon Thinks Attacking Iran is a ...   \n",
       "1  b'Israeli Physicians Group Condemns State Tort...   \n",
       "\n",
       "                                               Top22  \\\n",
       "0  b'Caucasus in crisis: Georgia invades South Os...   \n",
       "1  b' Russia has just beaten the United States ov...   \n",
       "\n",
       "                                               Top23  \\\n",
       "0  b'Indian shoe manufactory  - And again in a se...   \n",
       "1  b'Perhaps *the* question about the Georgia - R...   \n",
       "\n",
       "                                               Top24  \\\n",
       "0  b'Visitors Suffering from Mental Illnesses Ban...   \n",
       "1                 b'Russia is so much better at war'   \n",
       "\n",
       "                                               Top25  \n",
       "0           b\"No Help for Mexico's Kidnapping Surge\"  \n",
       "1  b\"So this is what it's come to: trading sex fo...  \n",
       "\n",
       "[2 rows x 27 columns]"
      ]
     },
     "execution_count": 21,
     "metadata": {},
     "output_type": "execute_result"
    }
   ],
   "source": [
    "data.head(2)"
   ]
  },
  {
   "cell_type": "code",
   "execution_count": 22,
   "id": "0b490bb6",
   "metadata": {
    "scrolled": true
   },
   "outputs": [
    {
     "data": {
      "text/plain": [
       "array(['2008-08-08', '2008-08-11', '2008-08-12', ..., '2016-06-29',\n",
       "       '2016-06-30', '2016-07-01'], dtype=object)"
      ]
     },
     "execution_count": 22,
     "metadata": {},
     "output_type": "execute_result"
    }
   ],
   "source": [
    "data.Date.unique()"
   ]
  },
  {
   "cell_type": "code",
   "execution_count": 23,
   "id": "14c528ef",
   "metadata": {},
   "outputs": [],
   "source": [
    "train=data[data.Date < \"2015-01-01\"]\n",
    "test=data[data.Date > \"2015-01-01\"]"
   ]
  },
  {
   "cell_type": "code",
   "execution_count": 24,
   "id": "eea77639",
   "metadata": {},
   "outputs": [],
   "source": [
    "#cleaning data removing punctuation\n",
    "data=train.iloc[:,2:27]\n",
    "data.replace(\"[^a-zA-Z]\",\" \",regex=True,inplace=True)"
   ]
  },
  {
   "cell_type": "code",
   "execution_count": 25,
   "id": "1ddf61a9",
   "metadata": {},
   "outputs": [
    {
     "data": {
      "text/html": [
       "<div>\n",
       "<style scoped>\n",
       "    .dataframe tbody tr th:only-of-type {\n",
       "        vertical-align: middle;\n",
       "    }\n",
       "\n",
       "    .dataframe tbody tr th {\n",
       "        vertical-align: top;\n",
       "    }\n",
       "\n",
       "    .dataframe thead th {\n",
       "        text-align: right;\n",
       "    }\n",
       "</style>\n",
       "<table border=\"1\" class=\"dataframe\">\n",
       "  <thead>\n",
       "    <tr style=\"text-align: right;\">\n",
       "      <th></th>\n",
       "      <th>Top1</th>\n",
       "      <th>Top2</th>\n",
       "      <th>Top3</th>\n",
       "      <th>Top4</th>\n",
       "      <th>Top5</th>\n",
       "      <th>Top6</th>\n",
       "      <th>Top7</th>\n",
       "      <th>Top8</th>\n",
       "      <th>Top9</th>\n",
       "      <th>Top10</th>\n",
       "      <th>...</th>\n",
       "      <th>Top16</th>\n",
       "      <th>Top17</th>\n",
       "      <th>Top18</th>\n",
       "      <th>Top19</th>\n",
       "      <th>Top20</th>\n",
       "      <th>Top21</th>\n",
       "      <th>Top22</th>\n",
       "      <th>Top23</th>\n",
       "      <th>Top24</th>\n",
       "      <th>Top25</th>\n",
       "    </tr>\n",
       "    <tr>\n",
       "      <th>Top25</th>\n",
       "      <th></th>\n",
       "      <th></th>\n",
       "      <th></th>\n",
       "      <th></th>\n",
       "      <th></th>\n",
       "      <th></th>\n",
       "      <th></th>\n",
       "      <th></th>\n",
       "      <th></th>\n",
       "      <th></th>\n",
       "      <th></th>\n",
       "      <th></th>\n",
       "      <th></th>\n",
       "      <th></th>\n",
       "      <th></th>\n",
       "      <th></th>\n",
       "      <th></th>\n",
       "      <th></th>\n",
       "      <th></th>\n",
       "      <th></th>\n",
       "      <th></th>\n",
       "    </tr>\n",
       "  </thead>\n",
       "  <tbody>\n",
       "    <tr>\n",
       "      <th>b no help for mexico s kidnapping surge</th>\n",
       "      <td>b Georgia  downs two Russian warplanes  as cou...</td>\n",
       "      <td>b BREAKING  Musharraf to be impeached</td>\n",
       "      <td>b Russia Today  Columns of troops roll into So...</td>\n",
       "      <td>b Russian tanks are moving towards the capital...</td>\n",
       "      <td>b Afghan children raped with  impunity   U N  ...</td>\n",
       "      <td>b     Russian tanks have entered South Ossetia...</td>\n",
       "      <td>b Breaking  Georgia invades South Ossetia  Rus...</td>\n",
       "      <td>b The  enemy combatent  trials are nothing but...</td>\n",
       "      <td>b Georgian troops retreat from S  Osettain cap...</td>\n",
       "      <td>b Did the U S  Prep Georgia for War with Russia</td>\n",
       "      <td>...</td>\n",
       "      <td>b Georgia Invades South Ossetia   if Russia ge...</td>\n",
       "      <td>b Al Qaeda Faces Islamist Backlash</td>\n",
       "      <td>b Condoleezza Rice   The US would not act to p...</td>\n",
       "      <td>b This is a busy day   The European Union has ...</td>\n",
       "      <td>b Georgia will withdraw       soldiers from Ir...</td>\n",
       "      <td>b Why the Pentagon Thinks Attacking Iran is a ...</td>\n",
       "      <td>b Caucasus in crisis  Georgia invades South Os...</td>\n",
       "      <td>b Indian shoe manufactory    And again in a se...</td>\n",
       "      <td>b Visitors Suffering from Mental Illnesses Ban...</td>\n",
       "      <td>b No Help for Mexico s Kidnapping Surge</td>\n",
       "    </tr>\n",
       "    <tr>\n",
       "      <th>b so this is what it s come to  trading sex for food</th>\n",
       "      <td>b Why wont America and Nato help us  If they w...</td>\n",
       "      <td>b Bush puts foot down on Georgian conflict</td>\n",
       "      <td>b Jewish Georgian minister  Thanks to Israeli ...</td>\n",
       "      <td>b Georgian army flees in disarray as Russians ...</td>\n",
       "      <td>b Olympic opening ceremony fireworks  faked</td>\n",
       "      <td>b What were the Mossad with fraudulent New Zea...</td>\n",
       "      <td>b Russia angered by Israeli military sale to G...</td>\n",
       "      <td>b An American citizen living in S Ossetia blam...</td>\n",
       "      <td>b Welcome To World War IV  Now In High Definit...</td>\n",
       "      <td>b Georgia s move  a mistake of monumental prop...</td>\n",
       "      <td>...</td>\n",
       "      <td>b Israel and the US behind the Georgian aggres...</td>\n",
       "      <td>b  Do not believe TV  neither Russian nor Geor...</td>\n",
       "      <td>b Riots are still going on in Montreal  Canada...</td>\n",
       "      <td>b China to overtake US as largest manufacturer</td>\n",
       "      <td>b War in South Ossetia  PICS</td>\n",
       "      <td>b Israeli Physicians Group Condemns State Tort...</td>\n",
       "      <td>b  Russia has just beaten the United States ov...</td>\n",
       "      <td>b Perhaps  the  question about the Georgia   R...</td>\n",
       "      <td>b Russia is so much better at war</td>\n",
       "      <td>b So this is what it s come to  trading sex fo...</td>\n",
       "    </tr>\n",
       "  </tbody>\n",
       "</table>\n",
       "<p>2 rows × 25 columns</p>\n",
       "</div>"
      ],
      "text/plain": [
       "                                                                                                 Top1  \\\n",
       "Top25                                                                                                   \n",
       "b no help for mexico s kidnapping surge             b Georgia  downs two Russian warplanes  as cou...   \n",
       "b so this is what it s come to  trading sex for...  b Why wont America and Nato help us  If they w...   \n",
       "\n",
       "                                                                                           Top2  \\\n",
       "Top25                                                                                             \n",
       "b no help for mexico s kidnapping surge                 b BREAKING  Musharraf to be impeached     \n",
       "b so this is what it s come to  trading sex for...  b Bush puts foot down on Georgian conflict    \n",
       "\n",
       "                                                                                                 Top3  \\\n",
       "Top25                                                                                                   \n",
       "b no help for mexico s kidnapping surge             b Russia Today  Columns of troops roll into So...   \n",
       "b so this is what it s come to  trading sex for...  b Jewish Georgian minister  Thanks to Israeli ...   \n",
       "\n",
       "                                                                                                 Top4  \\\n",
       "Top25                                                                                                   \n",
       "b no help for mexico s kidnapping surge             b Russian tanks are moving towards the capital...   \n",
       "b so this is what it s come to  trading sex for...  b Georgian army flees in disarray as Russians ...   \n",
       "\n",
       "                                                                                                 Top5  \\\n",
       "Top25                                                                                                   \n",
       "b no help for mexico s kidnapping surge             b Afghan children raped with  impunity   U N  ...   \n",
       "b so this is what it s come to  trading sex for...      b Olympic opening ceremony fireworks  faked     \n",
       "\n",
       "                                                                                                 Top6  \\\n",
       "Top25                                                                                                   \n",
       "b no help for mexico s kidnapping surge             b     Russian tanks have entered South Ossetia...   \n",
       "b so this is what it s come to  trading sex for...  b What were the Mossad with fraudulent New Zea...   \n",
       "\n",
       "                                                                                                 Top7  \\\n",
       "Top25                                                                                                   \n",
       "b no help for mexico s kidnapping surge             b Breaking  Georgia invades South Ossetia  Rus...   \n",
       "b so this is what it s come to  trading sex for...  b Russia angered by Israeli military sale to G...   \n",
       "\n",
       "                                                                                                 Top8  \\\n",
       "Top25                                                                                                   \n",
       "b no help for mexico s kidnapping surge             b The  enemy combatent  trials are nothing but...   \n",
       "b so this is what it s come to  trading sex for...  b An American citizen living in S Ossetia blam...   \n",
       "\n",
       "                                                                                                 Top9  \\\n",
       "Top25                                                                                                   \n",
       "b no help for mexico s kidnapping surge             b Georgian troops retreat from S  Osettain cap...   \n",
       "b so this is what it s come to  trading sex for...  b Welcome To World War IV  Now In High Definit...   \n",
       "\n",
       "                                                                                                Top10  \\\n",
       "Top25                                                                                                   \n",
       "b no help for mexico s kidnapping surge             b Did the U S  Prep Georgia for War with Russia     \n",
       "b so this is what it s come to  trading sex for...  b Georgia s move  a mistake of monumental prop...   \n",
       "\n",
       "                                                    ...  \\\n",
       "Top25                                               ...   \n",
       "b no help for mexico s kidnapping surge             ...   \n",
       "b so this is what it s come to  trading sex for...  ...   \n",
       "\n",
       "                                                                                                Top16  \\\n",
       "Top25                                                                                                   \n",
       "b no help for mexico s kidnapping surge             b Georgia Invades South Ossetia   if Russia ge...   \n",
       "b so this is what it s come to  trading sex for...  b Israel and the US behind the Georgian aggres...   \n",
       "\n",
       "                                                                                                Top17  \\\n",
       "Top25                                                                                                   \n",
       "b no help for mexico s kidnapping surge                           b Al Qaeda Faces Islamist Backlash    \n",
       "b so this is what it s come to  trading sex for...  b  Do not believe TV  neither Russian nor Geor...   \n",
       "\n",
       "                                                                                                Top18  \\\n",
       "Top25                                                                                                   \n",
       "b no help for mexico s kidnapping surge             b Condoleezza Rice   The US would not act to p...   \n",
       "b so this is what it s come to  trading sex for...  b Riots are still going on in Montreal  Canada...   \n",
       "\n",
       "                                                                                                Top19  \\\n",
       "Top25                                                                                                   \n",
       "b no help for mexico s kidnapping surge             b This is a busy day   The European Union has ...   \n",
       "b so this is what it s come to  trading sex for...    b China to overtake US as largest manufacturer    \n",
       "\n",
       "                                                                                                Top20  \\\n",
       "Top25                                                                                                   \n",
       "b no help for mexico s kidnapping surge             b Georgia will withdraw       soldiers from Ir...   \n",
       "b so this is what it s come to  trading sex for...                     b War in South Ossetia  PICS     \n",
       "\n",
       "                                                                                                Top21  \\\n",
       "Top25                                                                                                   \n",
       "b no help for mexico s kidnapping surge             b Why the Pentagon Thinks Attacking Iran is a ...   \n",
       "b so this is what it s come to  trading sex for...  b Israeli Physicians Group Condemns State Tort...   \n",
       "\n",
       "                                                                                                Top22  \\\n",
       "Top25                                                                                                   \n",
       "b no help for mexico s kidnapping surge             b Caucasus in crisis  Georgia invades South Os...   \n",
       "b so this is what it s come to  trading sex for...  b  Russia has just beaten the United States ov...   \n",
       "\n",
       "                                                                                                Top23  \\\n",
       "Top25                                                                                                   \n",
       "b no help for mexico s kidnapping surge             b Indian shoe manufactory    And again in a se...   \n",
       "b so this is what it s come to  trading sex for...  b Perhaps  the  question about the Georgia   R...   \n",
       "\n",
       "                                                                                                Top24  \\\n",
       "Top25                                                                                                   \n",
       "b no help for mexico s kidnapping surge             b Visitors Suffering from Mental Illnesses Ban...   \n",
       "b so this is what it s come to  trading sex for...                 b Russia is so much better at war    \n",
       "\n",
       "                                                                                                Top25  \n",
       "Top25                                                                                                  \n",
       "b no help for mexico s kidnapping surge                      b No Help for Mexico s Kidnapping Surge   \n",
       "b so this is what it s come to  trading sex for...  b So this is what it s come to  trading sex fo...  \n",
       "\n",
       "[2 rows x 25 columns]"
      ]
     },
     "execution_count": 25,
     "metadata": {},
     "output_type": "execute_result"
    }
   ],
   "source": [
    "#data in lower case \n",
    "for index in data.columns:\n",
    "    data.index=data[index].str.lower()\n",
    "data.head(2)"
   ]
  },
  {
   "cell_type": "code",
   "execution_count": 26,
   "id": "c447e862",
   "metadata": {},
   "outputs": [],
   "source": [
    "res=\"\".join(str(a) for a in data.iloc[1,0:25])"
   ]
  },
  {
   "cell_type": "code",
   "execution_count": 27,
   "id": "ac0136d9",
   "metadata": {},
   "outputs": [],
   "source": [
    "headlines=[]\n",
    "for row in range(0,len(data.index)):\n",
    "    headlines.append(res)\n"
   ]
  },
  {
   "cell_type": "code",
   "execution_count": 28,
   "id": "a642ba8a",
   "metadata": {},
   "outputs": [
    {
     "data": {
      "text/plain": [
       "'b Why wont America and Nato help us  If they wont help us now  why did we help them in Iraq  b Bush puts foot down on Georgian conflict b Jewish Georgian minister  Thanks to Israeli training  we re fending off Russia  b Georgian army flees in disarray as Russians advance   Gori abandoned to Russia without a shot fired b Olympic opening ceremony fireworks  faked  b What were the Mossad with fraudulent New Zealand Passports doing in Iraq  b Russia angered by Israeli military sale to Georgia b An American citizen living in S Ossetia blames U S  and Georgian leaders for the genocide of innocent people b Welcome To World War IV  Now In High Definition  b Georgia s move  a mistake of monumental proportions  b Russia presses deeper into Georgia  U S  says regime change is goal b Abhinav Bindra wins first ever Individual Olympic Gold Medal for India b  U S  ship heads for Arctic to define territory b Drivers in a Jerusalem taxi station threaten to quit rather than work for their new boss   an Arab b The French Team is Stunned by Phelps and the  x   m Relay Team b Israel and the US behind the Georgian aggression  b  Do not believe TV  neither Russian nor Georgian  There are much more victims  b Riots are still going on in Montreal  Canada  because police murdered a boy on Saturday  b China to overtake US as largest manufacturer b War in South Ossetia  PICS  b Israeli Physicians Group Condemns State Torture b  Russia has just beaten the United States over the head with Peak Oil b Perhaps  the  question about the Georgia   Russia conflict  b Russia is so much better at war b So this is what it s come to  trading sex for food  '"
      ]
     },
     "execution_count": 28,
     "metadata": {},
     "output_type": "execute_result"
    }
   ],
   "source": [
    "headlines[1]"
   ]
  },
  {
   "cell_type": "code",
   "execution_count": 29,
   "id": "fc0a5981",
   "metadata": {},
   "outputs": [],
   "source": [
    "from sklearn.feature_extraction.text import CountVectorizer\n",
    "from sklearn.tree import DecisionTreeClassifier"
   ]
  },
  {
   "cell_type": "code",
   "execution_count": 30,
   "id": "dc4a70d9",
   "metadata": {},
   "outputs": [],
   "source": [
    "cv=CountVectorizer(ngram_range=(2,2))\n",
    "traindata=cv.fit_transform(headlines)"
   ]
  },
  {
   "cell_type": "code",
   "execution_count": 31,
   "id": "fd0be69d",
   "metadata": {},
   "outputs": [
    {
     "data": {
      "text/plain": [
       "<1611x254 sparse matrix of type '<class 'numpy.int64'>'\n",
       "\twith 409194 stored elements in Compressed Sparse Row format>"
      ]
     },
     "execution_count": 31,
     "metadata": {},
     "output_type": "execute_result"
    }
   ],
   "source": [
    "traindata"
   ]
  },
  {
   "cell_type": "code",
   "execution_count": 32,
   "id": "2a757777",
   "metadata": {},
   "outputs": [],
   "source": [
    "dt=DecisionTreeClassifier(min_samples_split=10,criterion=\"entropy\")\n",
    "model=dt.fit(traindata,train.Label)"
   ]
  },
  {
   "cell_type": "code",
   "execution_count": 33,
   "id": "a10f0916",
   "metadata": {},
   "outputs": [],
   "source": [
    "\n",
    "test_transform=[]\n",
    "for row in range(0,len(test.index)):\n",
    "    test_transform.append(\"\".join(str(a) for a in test.iloc[row,2:27]))\n",
    "test_data=cv.transform(test_transform)\n",
    "predict=dt.predict(test_data)"
   ]
  },
  {
   "cell_type": "code",
   "execution_count": 46,
   "id": "734eb3f2",
   "metadata": {},
   "outputs": [
    {
     "name": "stdout",
     "output_type": "stream",
     "text": [
      "50.79365079365079\n",
      "              precision    recall  f1-score   support\n",
      "\n",
      "           0       0.00      0.00      0.00       186\n",
      "           1       0.51      1.00      0.67       192\n",
      "\n",
      "    accuracy                           0.51       378\n",
      "   macro avg       0.25      0.50      0.34       378\n",
      "weighted avg       0.26      0.51      0.34       378\n",
      "\n"
     ]
    },
    {
     "name": "stderr",
     "output_type": "stream",
     "text": [
      "C:\\Users\\U\\anaconda3\\lib\\site-packages\\sklearn\\metrics\\_classification.py:1245: UndefinedMetricWarning: Precision and F-score are ill-defined and being set to 0.0 in labels with no predicted samples. Use `zero_division` parameter to control this behavior.\n",
      "  _warn_prf(average, modifier, msg_start, len(result))\n",
      "C:\\Users\\U\\anaconda3\\lib\\site-packages\\sklearn\\metrics\\_classification.py:1245: UndefinedMetricWarning: Precision and F-score are ill-defined and being set to 0.0 in labels with no predicted samples. Use `zero_division` parameter to control this behavior.\n",
      "  _warn_prf(average, modifier, msg_start, len(result))\n",
      "C:\\Users\\U\\anaconda3\\lib\\site-packages\\sklearn\\metrics\\_classification.py:1245: UndefinedMetricWarning: Precision and F-score are ill-defined and being set to 0.0 in labels with no predicted samples. Use `zero_division` parameter to control this behavior.\n",
      "  _warn_prf(average, modifier, msg_start, len(result))\n"
     ]
    }
   ],
   "source": [
    "from sklearn.metrics import classification_report,accuracy_score,confusion_matrix\n",
    "acc_score=accuracy_score(test.Label,predict)*100\n",
    "cm=confusion_matrix(test.Label,predict)\n",
    "print(acc_score)\n",
    "report=classification_report(test['Label'],predict)\n",
    "print(report)\n",
    "\n"
   ]
  },
  {
   "cell_type": "markdown",
   "id": "ac700306",
   "metadata": {},
   "source": [
    "AS ABOVE WE GOT SCORE OF 50% WHICH IS AVERAGE SCORE OF THIS ANALYSIS AND ALSO WE HAVE COMPUTED ALL THE STATISTICAL CLASSIFICATION REPORTS FOR OUR ANALYSIS PREDICTION"
   ]
  },
  {
   "cell_type": "code",
   "execution_count": null,
   "id": "afd7211d",
   "metadata": {},
   "outputs": [],
   "source": []
  }
 ],
 "metadata": {
  "kernelspec": {
   "display_name": "Python 3",
   "language": "python",
   "name": "python3"
  },
  "language_info": {
   "codemirror_mode": {
    "name": "ipython",
    "version": 3
   },
   "file_extension": ".py",
   "mimetype": "text/x-python",
   "name": "python",
   "nbconvert_exporter": "python",
   "pygments_lexer": "ipython3",
   "version": "3.8.8"
  }
 },
 "nbformat": 4,
 "nbformat_minor": 5
}
