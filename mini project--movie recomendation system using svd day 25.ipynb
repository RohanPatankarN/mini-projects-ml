{
 "cells": [
  {
   "cell_type": "code",
   "execution_count": 1,
   "id": "ec9b0b3e",
   "metadata": {},
   "outputs": [],
   "source": [
    "import pandas as pd\n",
    "import numpy as np"
   ]
  },
  {
   "cell_type": "code",
   "execution_count": 4,
   "id": "e6ab7aa6",
   "metadata": {},
   "outputs": [
    {
     "data": {
      "text/html": [
       "<div>\n",
       "<style scoped>\n",
       "    .dataframe tbody tr th:only-of-type {\n",
       "        vertical-align: middle;\n",
       "    }\n",
       "\n",
       "    .dataframe tbody tr th {\n",
       "        vertical-align: top;\n",
       "    }\n",
       "\n",
       "    .dataframe thead th {\n",
       "        text-align: right;\n",
       "    }\n",
       "</style>\n",
       "<table border=\"1\" class=\"dataframe\">\n",
       "  <thead>\n",
       "    <tr style=\"text-align: right;\">\n",
       "      <th></th>\n",
       "      <th>movie_id</th>\n",
       "      <th>title</th>\n",
       "      <th>genre</th>\n",
       "    </tr>\n",
       "  </thead>\n",
       "  <tbody>\n",
       "    <tr>\n",
       "      <th>0</th>\n",
       "      <td>1</td>\n",
       "      <td>Toy Story (1995)</td>\n",
       "      <td>Animation|Children's|Comedy</td>\n",
       "    </tr>\n",
       "    <tr>\n",
       "      <th>1</th>\n",
       "      <td>2</td>\n",
       "      <td>Jumanji (1995)</td>\n",
       "      <td>Adventure|Children's|Fantasy</td>\n",
       "    </tr>\n",
       "    <tr>\n",
       "      <th>2</th>\n",
       "      <td>3</td>\n",
       "      <td>Grumpier Old Men (1995)</td>\n",
       "      <td>Comedy|Romance</td>\n",
       "    </tr>\n",
       "    <tr>\n",
       "      <th>3</th>\n",
       "      <td>4</td>\n",
       "      <td>Waiting to Exhale (1995)</td>\n",
       "      <td>Comedy|Drama</td>\n",
       "    </tr>\n",
       "    <tr>\n",
       "      <th>4</th>\n",
       "      <td>5</td>\n",
       "      <td>Father of the Bride Part II (1995)</td>\n",
       "      <td>Comedy</td>\n",
       "    </tr>\n",
       "    <tr>\n",
       "      <th>...</th>\n",
       "      <td>...</td>\n",
       "      <td>...</td>\n",
       "      <td>...</td>\n",
       "    </tr>\n",
       "    <tr>\n",
       "      <th>3878</th>\n",
       "      <td>3948</td>\n",
       "      <td>Meet the Parents (2000)</td>\n",
       "      <td>Comedy</td>\n",
       "    </tr>\n",
       "    <tr>\n",
       "      <th>3879</th>\n",
       "      <td>3949</td>\n",
       "      <td>Requiem for a Dream (2000)</td>\n",
       "      <td>Drama</td>\n",
       "    </tr>\n",
       "    <tr>\n",
       "      <th>3880</th>\n",
       "      <td>3950</td>\n",
       "      <td>Tigerland (2000)</td>\n",
       "      <td>Drama</td>\n",
       "    </tr>\n",
       "    <tr>\n",
       "      <th>3881</th>\n",
       "      <td>3951</td>\n",
       "      <td>Two Family House (2000)</td>\n",
       "      <td>Drama</td>\n",
       "    </tr>\n",
       "    <tr>\n",
       "      <th>3882</th>\n",
       "      <td>3952</td>\n",
       "      <td>Contender, The (2000)</td>\n",
       "      <td>Drama|Thriller</td>\n",
       "    </tr>\n",
       "  </tbody>\n",
       "</table>\n",
       "<p>3883 rows × 3 columns</p>\n",
       "</div>"
      ],
      "text/plain": [
       "      movie_id                               title  \\\n",
       "0            1                    Toy Story (1995)   \n",
       "1            2                      Jumanji (1995)   \n",
       "2            3             Grumpier Old Men (1995)   \n",
       "3            4            Waiting to Exhale (1995)   \n",
       "4            5  Father of the Bride Part II (1995)   \n",
       "...        ...                                 ...   \n",
       "3878      3948             Meet the Parents (2000)   \n",
       "3879      3949          Requiem for a Dream (2000)   \n",
       "3880      3950                    Tigerland (2000)   \n",
       "3881      3951             Two Family House (2000)   \n",
       "3882      3952               Contender, The (2000)   \n",
       "\n",
       "                             genre  \n",
       "0      Animation|Children's|Comedy  \n",
       "1     Adventure|Children's|Fantasy  \n",
       "2                   Comedy|Romance  \n",
       "3                     Comedy|Drama  \n",
       "4                           Comedy  \n",
       "...                            ...  \n",
       "3878                        Comedy  \n",
       "3879                         Drama  \n",
       "3880                         Drama  \n",
       "3881                         Drama  \n",
       "3882                Drama|Thriller  \n",
       "\n",
       "[3883 rows x 3 columns]"
      ]
     },
     "execution_count": 4,
     "metadata": {},
     "output_type": "execute_result"
    }
   ],
   "source": [
    "rating_data=pd.io.parsers.read_csv(\"ratings.dat\",names=[\"userId\",\"movie_id\",\"rating\",\"timestamp\"],engine=\"python\",delimiter=\"::\")\n",
    "movie_data=pd.io.parsers.read_csv(\"movies.dat\",names=[\"movie_id\",\"title\",\"genre\"],engine=\"python\",delimiter=\"::\")\n",
    "movie_data"
   ]
  },
  {
   "cell_type": "markdown",
   "id": "7ae1f88c",
   "metadata": {},
   "source": [
    "CREATING RATING MATRIX OF SHAPE mxu"
   ]
  },
  {
   "cell_type": "code",
   "execution_count": 5,
   "id": "8bb28f68",
   "metadata": {},
   "outputs": [],
   "source": [
    "#converting our data into matrix\n",
    "rating_matrix=np.ndarray(shape=(np.max(rating_data.movie_id.values),np.max(rating_data.userId.values)))\n",
    "rating_matrix[rating_data.movie_id.values-1,rating_data.userId.values-1]=rating_data.rating.values"
   ]
  },
  {
   "cell_type": "code",
   "execution_count": 6,
   "id": "0e61b804",
   "metadata": {},
   "outputs": [
    {
     "data": {
      "text/plain": [
       "array([[5., 0., 0., ..., 0., 0., 3.],\n",
       "       [0., 0., 0., ..., 0., 0., 0.],\n",
       "       [0., 0., 0., ..., 0., 0., 0.],\n",
       "       ...,\n",
       "       [0., 0., 0., ..., 0., 0., 0.],\n",
       "       [0., 0., 0., ..., 0., 0., 0.],\n",
       "       [0., 0., 0., ..., 0., 0., 0.]])"
      ]
     },
     "execution_count": 6,
     "metadata": {},
     "output_type": "execute_result"
    }
   ],
   "source": [
    "rating_matrix"
   ]
  },
  {
   "cell_type": "markdown",
   "id": "33a9bf20",
   "metadata": {},
   "source": [
    "SUBSTRACT MEAN OFF-NORMALISATION SCALING OUR DATA"
   ]
  },
  {
   "cell_type": "code",
   "execution_count": 11,
   "id": "91783455",
   "metadata": {},
   "outputs": [
    {
     "data": {
      "text/plain": [
       "array([[ 3.57400662, -1.42599338, -1.42599338, ..., -1.42599338,\n",
       "        -1.42599338,  1.57400662],\n",
       "       [-0.37152318, -0.37152318, -0.37152318, ..., -0.37152318,\n",
       "        -0.37152318, -0.37152318],\n",
       "       [-0.23874172, -0.23874172, -0.23874172, ..., -0.23874172,\n",
       "        -0.23874172, -0.23874172],\n",
       "       ...,\n",
       "       [-0.03278146, -0.03278146, -0.03278146, ..., -0.03278146,\n",
       "        -0.03278146, -0.03278146],\n",
       "       [-0.02582781, -0.02582781, -0.02582781, ..., -0.02582781,\n",
       "        -0.02582781, -0.02582781],\n",
       "       [-0.24288079, -0.24288079, -0.24288079, ..., -0.24288079,\n",
       "        -0.24288079, -0.24288079]])"
      ]
     },
     "execution_count": 11,
     "metadata": {},
     "output_type": "execute_result"
    }
   ],
   "source": [
    "normalized_matrix=rating_matrix-np.array([(np.mean(rating_matrix,1))]).T\n",
    "normalized_matrix"
   ]
  },
  {
   "cell_type": "markdown",
   "id": "fcca58c4",
   "metadata": {},
   "source": [
    "computing svd"
   ]
  },
  {
   "cell_type": "code",
   "execution_count": 6,
   "id": "01d433e6",
   "metadata": {},
   "outputs": [],
   "source": [
    "A=normalized_matrix.T/np.sqrt(rating_matrix.shape[0]-1)\n",
    "U,D,V=np.linalg.svd(A)"
   ]
  },
  {
   "cell_type": "code",
   "execution_count": 7,
   "id": "9ec4ada6",
   "metadata": {},
   "outputs": [],
   "source": [
    "def cosine_similarity(rating_data,movie_id,top=10):\n",
    "    index=movie_id-1 #bcz i need index to start from 1\n",
    "    movie_row=rating_data[index,:] #row is index and column i need full\n",
    "    magnitude=np.sqrt(np.einsum(\"ij,ij->i\",rating_data,rating_data))\n",
    "    similar=np.dot(movie_row,rating_data.T)/(magnitude[index]*magnitude)\n",
    "    sort_index=np.argsort(-similar)\n",
    "    return sort_index[:top]"
   ]
  },
  {
   "cell_type": "code",
   "execution_count": 8,
   "id": "530c6bed",
   "metadata": {},
   "outputs": [],
   "source": [
    "def sim_movies(movie_data,movie_id,top_indices):\n",
    "    print(\"recomendations for {}\".format(movie_data[movie_data.movie_id==movie_id].title.values[0]))\n",
    "    for id in top_indices+1:\n",
    "        print(movie_data[movie_data.movie_id== id].title.values[0])"
   ]
  },
  {
   "cell_type": "code",
   "execution_count": 9,
   "id": "edfaae2e",
   "metadata": {},
   "outputs": [
    {
     "name": "stderr",
     "output_type": "stream",
     "text": [
      "<ipython-input-7-51edd3244c91>:5: RuntimeWarning: invalid value encountered in true_divide\n",
      "  similar=np.dot(movie_row,rating_data.T)/(magnitude[index]*magnitude)\n"
     ]
    }
   ],
   "source": [
    "k=50;movie_id=1;top=10\n",
    "sliced=V.T[:,:k]\n",
    "index=cosine_similarity(sliced,movie_id,top)"
   ]
  },
  {
   "cell_type": "code",
   "execution_count": 10,
   "id": "03b47767",
   "metadata": {},
   "outputs": [
    {
     "name": "stdout",
     "output_type": "stream",
     "text": [
      "recomendations for Toy Story (1995)\n",
      "Toy Story (1995)\n",
      "Toy Story 2 (1999)\n",
      "Babe (1995)\n",
      "Bug's Life, A (1998)\n",
      "Pleasantville (1998)\n",
      "Babe: Pig in the City (1998)\n",
      "Aladdin (1992)\n",
      "Stuart Little (1999)\n",
      "Secret Garden, The (1993)\n",
      "Tarzan (1999)\n"
     ]
    }
   ],
   "source": [
    "sim_movies(movie_data,movie_id,index)"
   ]
  }
 ],
 "metadata": {
  "kernelspec": {
   "display_name": "Python 3",
   "language": "python",
   "name": "python3"
  },
  "language_info": {
   "codemirror_mode": {
    "name": "ipython",
    "version": 3
   },
   "file_extension": ".py",
   "mimetype": "text/x-python",
   "name": "python",
   "nbconvert_exporter": "python",
   "pygments_lexer": "ipython3",
   "version": "3.8.8"
  }
 },
 "nbformat": 4,
 "nbformat_minor": 5
}
